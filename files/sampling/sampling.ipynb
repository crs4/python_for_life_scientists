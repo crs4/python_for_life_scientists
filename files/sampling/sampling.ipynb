{
 "cells": [
  {
   "cell_type": "markdown",
   "metadata": {},
   "source": [
    "## Remember, each FASTQ record is exactly four lines long\n"
   ]
  },
  {
   "cell_type": "markdown",
   "metadata": {},
   "source": [
    "## Sample 10% of reads"
   ]
  },
  {
   "cell_type": "code",
   "execution_count": null,
   "metadata": {},
   "outputs": [],
   "source": [
    "record_number = 0\n",
    "with open(\"test.fastq\") as input:\n",
    "    with open(\"sample.fastq\", \"w\") as output:\n",
    "        for line1 in input:\n",
    "            line2 = input.readline()\n",
    "            line3 = input.readline()\n",
    "            line4 = input.readline()\n",
    "            if record_number % 10 == 0:\n",
    "                    output.write(line1)\n",
    "                    output.write(line2)\n",
    "                    output.write(line3)\n",
    "                    output.write(line4)\n",
    "            record_number += 1"
   ]
  },
  {
   "cell_type": "markdown",
   "metadata": {},
   "source": [
    "## Randomly sample 10% of reads (more or less)"
   ]
  },
  {
   "cell_type": "code",
   "execution_count": null,
   "metadata": {},
   "outputs": [],
   "source": [
    "import random\n",
    "\n",
    "percentage = 10\n",
    "\n",
    "with open(\"test.fastq\") as input:\n",
    "    with open(\"sample.fastq\", \"w\") as output:\n",
    "        for line1 in input:\n",
    "            line2 = input.readline()\n",
    "            line3 = input.readline()\n",
    "            line4 = input.readline()\n",
    "            if random.randrange(0,percentage) == 0:\n",
    "                    output.write(line1)\n",
    "                    output.write(line2)\n",
    "                    output.write(line3)\n",
    "                    output.write(line4)"
   ]
  },
  {
   "cell_type": "markdown",
   "metadata": {},
   "source": [
    "## Sample a given number of reads"
   ]
  },
  {
   "cell_type": "code",
   "execution_count": null,
   "metadata": {},
   "outputs": [],
   "source": [
    "import random\n",
    "\n",
    "records_to_sample = 100\n",
    "\n",
    "with open(\"test.fastq\") as input:\n",
    "    num_lines = sum([1 for line in input])\n",
    "total_records = int(num_lines / 4)\n",
    "print(\"sampling {} out of {} records\".format(records_to_sample, total_records))\n",
    "\n",
    "percentage = (records_to_sample / total_records) * 100\n",
    "print(\"sampling {p} % of records\".format(p=percentage))\n",
    "\n",
    "records_to_keep = random.sample(range(total_records), records_to_sample)\n",
    "\n",
    "with open(\"test.fastq\") as input:\n",
    "    with open(\"sample.fastq\", \"w\") as output:\n",
    "        record_number = 0 \n",
    "        for line1 in input:\n",
    "            line2 = input.readline()\n",
    "            line3 = input.readline()\n",
    "            line4 = input.readline()\n",
    "            if record_number  in records_to_keep:\n",
    "                    output.writelines([line1, line2, line3, line4])                    \n",
    "            record_number += 1"
   ]
  },
  {
   "cell_type": "markdown",
   "metadata": {},
   "source": [
    "## Create multiple samples of records from a single file"
   ]
  },
  {
   "cell_type": "code",
   "execution_count": null,
   "metadata": {
    "scrolled": true
   },
   "outputs": [],
   "source": [
    "import random\n",
    "\n",
    "input_dataset = \"test.fastq\"\n",
    "records_to_sample = 100\n",
    "number_of_replicates = 10\n",
    "\n",
    "with open(input_dataset) as input:\n",
    "    num_lines = sum([1 for line in input])\n",
    "total_records = int(num_lines / 4)\n",
    "print(\"sampling {} out of {} records, replicated {} times\".format(records_to_sample, total_records, number_of_replicates))\n",
    "\n",
    "outputs = []\n",
    "\n",
    "for i in range(number_of_replicates):\n",
    "      outputs.append([open(\"sample.{}.fastq\".format(i), \"w\"), \n",
    "                      random.sample(range(total_records), records_to_sample)]\n",
    "                    )\n",
    "   \n",
    "record_number = 0\n",
    "with open(input_dataset) as input:\n",
    "        for line1 in input:\n",
    "            line2 = input.readline()\n",
    "            line3 = input.readline()\n",
    "            line4 = input.readline()\n",
    "            for output, keep in outputs:\n",
    "                if record_number in keep:\n",
    "                    output.writelines([line1, line2, line3, line4])    \n",
    "            record_number += 1\n",
    "            \n",
    "for output, keep in outputs:\n",
    "    output.close()"
   ]
  },
  {
   "cell_type": "markdown",
   "metadata": {},
   "source": [
    "## Put all together with a minimal user interface"
   ]
  },
  {
   "cell_type": "code",
   "execution_count": null,
   "metadata": {},
   "outputs": [],
   "source": [
    "import argparse\n",
    "import random\n",
    "import sys\n",
    "\n",
    "\n",
    "def make_parser():\n",
    "    parser = argparse.ArgumentParser(description='Randomly sampling a FASTQ file')\n",
    "    parser.add_argument(\"input\", help=\"input FASTQ filename\")\n",
    "    parser.add_argument(\"output\", help=\"output FASTQ filename\")\n",
    "    parser.add_argument(\"-n\", \"--number\", type=int, help=\"number of reads to sample\")\n",
    "    parser.add_argument(\"-p\", \"--percentage\", type=int, help=\"percentage of reads to sample\")\n",
    "    parser.add_argument(\"-r\", \"--replicates\", type=int, help=\"number of output files to write\", default=1)\n",
    "\n",
    "    return parser\n",
    "\n",
    "\n",
    "def count_records(filename, record_length=4):\n",
    "    print(\"counting records....\")\n",
    "    with open(filename) as input:\n",
    "        num_lines = sum([1 for line in input])\n",
    "    total_records = int(num_lines / record_length)\n",
    "    return total_records\n",
    "    \n",
    "    \n",
    "def main():\n",
    "    parser = make_parser()\n",
    "    args = parser.parse_args()\n",
    "    \n",
    "    if args.percentage and args.number:\n",
    "       sys.exit(\"give either a percentage or a number of reads to sample, not both\")\n",
    "\n",
    "    if not args.percentage and not args.number:\n",
    "       sys.exit(\"you must give either a percentage or a number of reads to sample\")\n",
    "\n",
    "    total_records = count_records(args.input)\n",
    "    records_to_sample = args.number if args.number else (total_records * args.percentage) // 100\n",
    "    number_of_replicates = args.replicates\n",
    "\n",
    "    input_filename = args.input\n",
    "    output_filename = args.output\n",
    "       \n",
    "    print(\"sampling {} out of {} records, replicated {} times\".format(records_to_sample, total_records, number_of_replicates))\n",
    "\n",
    "    outputs = []\n",
    "\n",
    "    for i in range(number_of_replicates):\n",
    "        outputs.append([open(\"{}_{}\".format(i, output_filename), \"w\"), \n",
    "                        random.sample(range(total_records), records_to_sample)]\n",
    "                       )\n",
    "   \n",
    "    record_number = 0\n",
    "    with open(input_filename) as input:\n",
    "        for line1 in input:\n",
    "            line2 = input.readline()\n",
    "            line3 = input.readline()\n",
    "            line4 = input.readline()\n",
    "            for output, keep in outputs:\n",
    "                if record_number in keep:\n",
    "                    output.writelines([line1, line2, line3, line4])    \n",
    "            record_number += 1\n",
    "            if record_number % ((total_records * 10) / 100) == 0:\n",
    "                print(\"{} % done\".format((record_number / total_records) * 100))\n",
    "\n",
    "    for output, keep in outputs:\n",
    "        output.close()\n",
    "\n",
    "    print(\"All done!\")\n",
    "\n",
    "    \n",
    "if __name__ == '__main__':\n",
    "    # execute only if run as a script\n",
    "    main()\n"
   ]
  }
 ],
 "metadata": {
  "kernelspec": {
   "display_name": "Python 3",
   "language": "python",
   "name": "python3"
  },
  "language_info": {
   "codemirror_mode": {
    "name": "ipython",
    "version": 3
   },
   "file_extension": ".py",
   "mimetype": "text/x-python",
   "name": "python",
   "nbconvert_exporter": "python",
   "pygments_lexer": "ipython3",
   "version": "3.6.5"
  }
 },
 "nbformat": 4,
 "nbformat_minor": 2
}
